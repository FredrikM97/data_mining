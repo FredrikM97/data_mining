{
 "cells": [
  {
   "cell_type": "markdown",
   "metadata": {},
   "source": [
    "# Confidence calculations"
   ]
  },
  {
   "cell_type": "code",
   "execution_count": 34,
   "metadata": {},
   "outputs": [
    {
     "name": "stdout",
     "output_type": "stream",
     "text": [
      "Importing packages... done\n",
      "Loading data...done\n"
     ]
    },
    {
     "data": {
      "text/plain": [
       "'\\nfrom sklearn.feature_selection import SelectFromModel\\nfrom sklearn.linear_model import LogisticRegression\\ndf = data.iloc[:10000]\\nX = df.loc[:,df.columns != \\'measure41\\'].fillna(-1)\\ny = df[\\'measure41\\'].fillna(-1)\\nlr = LogisticRegression(C=0.1, penalty=\"l1\", dual=False, max_iter=1000, solver=\\'saga\\')\\nlr.fit(X, y)\\nsfm = SelectFromModel(lr, prefit=True)\\nprint([col for col,support in zip(data.columns,sfm.get_support()) if ~support])\\ncons:\\n -This shit is for classification\\n'"
      ]
     },
     "execution_count": 34,
     "metadata": {},
     "output_type": "execute_result"
    }
   ],
   "source": [
    "\"\"\"\n",
    "Script to solve the first part of the data mining course project. Analysing data\n",
    "\"\"\"\n",
    "\n",
    "from __future__ import print_function\n",
    "print('Importing packages... ',end='')\n",
    "import numpy as np\n",
    "import pandas as pd\n",
    "import matplotlib.pyplot as plt\n",
    "import seaborn as sns\n",
    "import datetime\n",
    "from collections import Counter\n",
    "import warnings\n",
    "print('done')\n",
    "\n",
    "# Pandas setup\n",
    "pd.options.display.float_format = '{:.4f}'.format\n",
    "pd.options.display.max_rows = 10\n",
    "\n",
    "# Load some data\n",
    "print('Loading data...',end='')\n",
    "data = pd.read_csv('datasets/Project_Dataset.csv')\n",
    "print('done')\n",
    "\n",
    "# Figure out what datatype each column contain\n",
    "\"\"\"\n",
    "float_cols = [key for key,val in data.dtypes.items() if val == 'float64']\n",
    "not_float_cols = [key for key in float_cols if \\\n",
    "    sum(data[key].apply(lambda i:i.is_integer())) == sum(~data[key].isna())]\n",
    "float_cols = [col for col in float_cols if col not in not_float_cols]\n",
    "int_cols = [key for key,val in data.dtypes.items() if val == 'int64']\n",
    "time_cols = [col for col in data.columns if col not in int_cols+float_cols+not_float_cols]\n",
    "\"\"\"\n",
    "\"To save time we set these manually\"\n",
    "float_cols = ['Operation_TIME', 'Operation_DISTANCE', 'Gear_Level_Auto_Time', 'Gear_Level_Man_Time', 'Total_Distance', 'Brake_Time', 'Cruise_Time', 'Drive_Distance', 'Drive_Fuel', 'Drive_Time', 'Idle_Fuel', 'Coasting_Time', 'Econ_Time', 'Idle_Time', 'Key_On_Time', 'Pedal_Time', 'measure35', 'measure36', 'measure37', 'measure38', 'measure39', 'measure41', 'measure42', 'measure43', 'measure44', 'measure45', 'measure46', 'measure47', 'measure48', 'measure49', 'Measure_G-1_Time', 'State_Of_Health_Battery', 'Diesel_Mode_Total_Fuel', 'measure50', 'measure51', 'Measure_3', 'Electric_Mode_Time', 'Hybrid_Mode_Time', 'Charge_Mode_Time', 'Diesel_Mode_Time', 'Total_Time', 'Electric_Mode_Distance', 'Hybrid_Mode_Distance', 'Diesel_Mode_Distance', 'Total_Distance__ElectricHybridDiesel']\n",
    "not_float_cols = ['Charge_mode_DISTANCE', 'measure40', 'Battery_Generation', 'Fleet_ID', 'Country', 'Measure_2', 'Active_Charge', 'Mounted_Battery_Generation', 'Measure_1', 'Measure_R_D', 'Engine_Type', 'Geo_Area', 'City', 'Cluster', 'Battery_Supplier']\n",
    "int_cols = ['Sample_ID', 'Vehicle_ID', 'Sender', 'Battery_Version', 'Vehicle_MRK_TYPE', 'EMISSION_LEVEL', 'CURRENT_YEARLY_MILEAGE', 'Measure_ROw', 'Is_Bttery_Changed', 'IS_PATTERN_AVAILABLE', 'IS_FLEET_TOF_MONITORED', 'IS_CHECKED_IN_VDA', 'IS_Battery_Supplier_Type2_FAULTY', 'IS_VIP_FLEET']\n",
    "time_cols = ['SEND_TIME', 'Battery_Replacement_date']\n",
    "assert(len(float_cols+not_float_cols+int_cols+time_cols) == len(data.columns))\n",
    "\"Convert dates to timestamps\"\n",
    "date2time = lambda d:datetime.datetime.fromisoformat(d).timestamp()\n",
    "for time_col in time_cols:\n",
    "    data[time_col].update(data[time_col].dropna().apply(date2time))\n",
    "\">>>len(data[data['Country'].isna()]) -> 1\"\n",
    "\"Looks like only one sample is missing Country id so lets drop that\"\n",
    "data.dropna(subset=['Country'],inplace=True)\n",
    "\n",
    "# Count fill percentage\n",
    "\"We know data is sparse so lets put a number on it\"\n",
    "def is_confident(data,label:str=None,threshold:int=0.999):\n",
    "    if label:\n",
    "        df = data[~data[label].isna()]\n",
    "    else:\n",
    "        df = data\n",
    "    return [(val/len(df),key)for key,val in df.count().items() \\\n",
    "     if val/len(df) > threshold]\n",
    "\n",
    "def print_data_fill(amount:int):\n",
    "    data_fill = sorted(is_confident(data,threshold=0),reverse=True)\n",
    "    print(*data_fill[:amount],sep='\\n')\n",
    "\n",
    "# Extract info from NaN values\n",
    "\"\"\"Use confidence to infer 1 way relationships between data. If the presence\n",
    "of one data implies the presence of another it is worth looking into\"\"\"\n",
    "\n",
    "def confidence_relations(data):\n",
    "    \"Generates a pair of dict mapping high confidence of data presence back and forth\"\n",
    "    \"Remove info that is always true to avoid cluttering the info\"\n",
    "    redundant_info = is_confident(data)\n",
    "    redundant_info = [val for i,val in redundant_info]\n",
    "    conf_data = data.drop(columns=redundant_info)\n",
    "    \"Find the confidence\"\n",
    "    high_conf = {key:is_confident(conf_data,key) for key in conf_data.columns}\n",
    "    high_conf = {key:[v for i,v in vals] for key,vals in high_conf.items()} #discard numbers\n",
    "    \"Reverse the dict\"\n",
    "    reverse_conf = {key:[] for key in high_conf}\n",
    "    for key, val in high_conf.items():\n",
    "        for v in val:\n",
    "            reverse_conf[v].append(key)\n",
    "    return high_conf, reverse_conf\n",
    "\n",
    "def print_confidence_count(amount:int):\n",
    "    high_conf, reverse_conf = confidence_relations(data)\n",
    "    confidence_count = [(len(val),key) for key,val in reverse_conf.items()]\n",
    "    confidence_count = sorted(confidence_count,reverse=True)\n",
    "    print(*confidence_count[:amount],sep='\\n')\n",
    "\n",
    "# Look for an interesting class data\n",
    "\"Measure number of classes in class columns\"\n",
    "def print_number_of_classes():\n",
    "    number_of_classes = data[int_cols+not_float_cols].apply(lambda c:len(c.unique()))\n",
    "    number_of_classes = sorted(number_of_classes.items(),key=lambda x:x[1],reverse=True)\n",
    "    print(*[f'{value}\\t{key}' for key,value in number_of_classes],sep='\\n')\n",
    "    \n",
    "    \n",
    "\"Measure class imbalance\"\n",
    "class_counter = data[int_cols+not_float_cols].fillna(-1.0).apply(lambda x:Counter(x))\n",
    "class_counter.index=int_cols+not_float_cols\n",
    "def print_class_counter_to_number_of_classes():\n",
    "    \"This should return the same as number of classes. Used for testing only\"\n",
    "    temp = sorted(class_counter.items(),key=lambda x:len(x[1]),reverse=True)\n",
    "    temp = [f'{len(val)}\\t{key}' for key,val in temp]\n",
    "    print(*temp,sep='\\n')\n",
    "\n",
    "def print_class_std():\n",
    "    class_std = [(np.std([*val.values()]),key) for key,val in class_counter.items()]\n",
    "    class_std = sorted(class_std,reverse=True)\n",
    "    class_std = [f'{val:.10}\\t{name}' for val,name in class_std]\n",
    "    print(*class_std,sep='\\n')\n",
    "    \"for reference >>> np.std([int(.9*l),int(.1*l)]) -> 344766.0\"\n",
    "    \n",
    "# Visualize data\n",
    "def do_tsne(perp:int,cols:list,points:int=500):\n",
    "    from sklearn.manifold import TSNE\n",
    "    sne_data = TSNE(perplexity=perp).fit_transform(data[cols].dropna().iloc[:points])\n",
    "    plt.scatter(*sne_data.T)\n",
    "    plt.show()\n",
    "\"\"\"\n",
    "do_tsne(25,float_cols)\n",
    "do_tsne(25,int_cols)\n",
    "do_tsne(40,not_float_cols)\n",
    "do_tsne(40,time_cols)\n",
    "do_tsne(40,float_cols+time_cols+int_cols+not_float_cols)\n",
    "do_tsne(40,float_cols+time_cols)\n",
    "\n",
    "\"\"\"\n",
    "# Feature selection with Variance Threshold\n",
    "\"\"\"\n",
    "from sklearn.feature_selection import VarianceThreshold\n",
    "vt = VarianceThreshold(threshold=(.9 * (1 - .9)))\n",
    "vt.fit(data)\n",
    "print([col for col,support in zip(data.columns,vt.get_support()) if ~support])\n",
    "\n",
    "When compared with print_class_std it removes 2 extra featues.\n",
    "class_counter['Measure_2'] shows that Measure_2 has a 90% class imbalance IF\n",
    "one ignores the NaN values. We cannot conclude there is no information in NaN.\n",
    "Setting a \"magic number\" to NaN suggests values from the top down of print_class_std.\n",
    "Pros:\n",
    " -Simple and clean\n",
    "Cons:\n",
    " -Does not provide new information\n",
    " -Drops NaN without warning\n",
    " -Disregards the target label when selecting features\n",
    "Conclusion: Variance Threshold provides missleading or redunant information.\n",
    "\"\"\"\n",
    "\n",
    "# Feature selection with SelectKBest mutual_info_regression\n",
    "\"\"\"\n",
    "from sklearn.feature_selection import SelectKBest\n",
    "from sklearn.feature_selection import mutual_info_regression\n",
    "SKB = SelectKBest(mutual_info_regression, k=71)\n",
    "df = data.iloc[:10000]\n",
    "SKB.fit(df.loc[:,df.columns != 'measure41'].fillna(-1),df['measure41'].fillna(-1))\n",
    "print([col for col,support in zip(data.columns,SKB.get_support()) if ~support])\n",
    "['Gear_Level_Man_Time', 'measure40', 'Is_Bttery_Changed', 'IS_CHECKED_IN_VDA']\n",
    "\n",
    "Pros:\n",
    " -Backed up by: L. F. Kozachenko, N. N. Leonenko, “Sample Estimate of the Entropy of a Random Vector”, Probl. Peredachi Inf., 23:2 (1987), 9-16\n",
    "Cons:\n",
    " -Had to use fillna to get an output. A better solution to NaN is required.\n",
    " -Memory complexity is high.\n",
    "Conclusion: With adaptation it could provide useful inforamtion.\n",
    "\"\"\"\n",
    "\n",
    "# Feature selection with SelectKBest f_regression\n",
    "\"\"\"\n",
    "from sklearn.feature_selection import SelectKBest\n",
    "from sklearn.feature_selection import f_regression\n",
    "SKB = SelectKBest(f_regression, k=71)\n",
    "df = data.iloc[:]\n",
    "SKB.fit(df.loc[:,df.columns != 'measure41'].fillna(-1),df['measure41'].fillna(-1))\n",
    "print([col for col,support in zip(data.columns,SKB.get_support()) if ~support])\n",
    "\n",
    "Pros:\n",
    " -Good time and memory complexity\n",
    "Cons:\n",
    " -Correlation assumes linear relationship\n",
    " -Need a solution to NaN values\n",
    "Conclusion: A good first draft for selection but not conclusive\n",
    "\"\"\"\n",
    "\n",
    "# Feature selection with Recursive feature elimination with cross validation\n",
    "\"\"\"\n",
    "from sklearn.feature_selection import RFECV\n",
    "from sklearn.svm import SVR\n",
    "df = data.iloc[:10000]\n",
    "X = df.loc[:,df.columns != 'measure41'].fillna(-1)\n",
    "y = df['measure41'].fillna(-1)\n",
    "rfecv = RFECV(SVR(kernel=\"linear\"), min_features_to_select=71, step=1, cv=5)\n",
    "rfecv = rfecv.fit(X, y)\n",
    "print([col for col,support in zip(data.columns,rfecv.get_support()) if ~support])\n",
    "\n",
    "Pros:\n",
    " -Has reference: Guyon, I., Westoprint_class_counter_to_number_of_classesn, J., Barnhill, S., & Vapnik, V., “Gene selection for cancer classification using support vector machines”, Mach. Learn., 46(1-3), 389–422, 2002.\n",
    " -Can find optimal number of features (rfecv.n_features_)\n",
    " -Can chose estimator based on model\n",
    "Cons:\n",
    " -Poor time complexity? (never finished execution) (and single threaded)\n",
    "\"\"\"\n",
    "\n",
    "# Feature selection with SelectFromModel and LogisticRegression\n",
    "\"\"\"\n",
    "from sklearn.feature_selection import SelectFromModel\n",
    "from sklearn.linear_model import LogisticRegression\n",
    "df = data.iloc[:10000]\n",
    "X = df.loc[:,df.columns != 'measure41'].fillna(-1)\n",
    "y = df['measure41'].fillna(-1)\n",
    "lr = LogisticRegression(C=0.1, penalty=\"l1\", dual=False, max_iter=1000, solver='saga')\n",
    "lr.fit(X, y)\n",
    "sfm = SelectFromModel(lr, prefit=True)\n",
    "print([col for col,support in zip(data.columns,sfm.get_support()) if ~support])\n",
    "cons:\n",
    " -This shit is for classification\n",
    "\"\"\"\n",
    "\n",
    "# Feature selection with SelectFromModel and linear_model.Lasso\n",
    "\n"
   ]
  },
  {
   "cell_type": "code",
   "execution_count": 6,
   "metadata": {
    "scrolled": false
   },
   "outputs": [
    {
     "name": "stdout",
     "output_type": "stream",
     "text": [
      "777466\tSample_ID\n",
      "4030\tVehicle_ID\n",
      "4030\tMeasure_ROw\n",
      "297\tFleet_ID\n",
      "254\tmeasure40\n",
      "125\tCity\n",
      "116\tMeasure_R_D\n",
      "33\tCURRENT_YEARLY_MILEAGE\n",
      "27\tCountry\n",
      "22\tMeasure_1\n",
      "9\tVehicle_MRK_TYPE\n",
      "9\tGeo_Area\n",
      "9\tCluster\n",
      "7\tBattery_Generation\n",
      "7\tMounted_Battery_Generation\n",
      "5\tBattery_Version\n",
      "5\tEngine_Type\n",
      "5\tBattery_Supplier\n",
      "4\tSender\n",
      "3\tMeasure_2\n",
      "3\tActive_Charge\n",
      "2\tEMISSION_LEVEL\n",
      "2\tIs_Bttery_Changed\n",
      "2\tIS_PATTERN_AVAILABLE\n",
      "2\tIS_FLEET_TOF_MONITORED\n",
      "2\tIS_CHECKED_IN_VDA\n",
      "2\tIS_Battery_Supplier_Type2_FAULTY\n",
      "2\tIS_VIP_FLEET\n",
      "2\tCharge_mode_DISTANCE\n",
      "777466\tSample_ID\n",
      "4030\tVehicle_ID\n",
      "4030\tMeasure_ROw\n",
      "297\tFleet_ID\n",
      "254\tmeasure40\n",
      "125\tCity\n",
      "116\tMeasure_R_D\n",
      "33\tCURRENT_YEARLY_MILEAGE\n",
      "27\tCountry\n",
      "22\tMeasure_1\n",
      "9\tVehicle_MRK_TYPE\n",
      "9\tGeo_Area\n",
      "9\tCluster\n",
      "7\tBattery_Generation\n",
      "7\tMounted_Battery_Generation\n",
      "5\tBattery_Version\n",
      "5\tEngine_Type\n",
      "5\tBattery_Supplier\n",
      "4\tSender\n",
      "3\tMeasure_2\n",
      "3\tActive_Charge\n",
      "2\tEMISSION_LEVEL\n",
      "2\tIs_Bttery_Changed\n",
      "2\tIS_PATTERN_AVAILABLE\n",
      "2\tIS_FLEET_TOF_MONITORED\n",
      "2\tIS_CHECKED_IN_VDA\n",
      "2\tIS_Battery_Supplier_Type2_FAULTY\n",
      "2\tIS_VIP_FLEET\n",
      "2\tCharge_mode_DISTANCE\n",
      "428463.5\tIS_Battery_Supplier_Type2_FAULTY\n",
      "394235.5\tIS_VIP_FLEET\n",
      "390377.5\tIS_PATTERN_AVAILABLE\n",
      "385534.633\tActive_Charge\n",
      "304129.3507\tBattery_Version\n",
      "262748.5\tIs_Bttery_Changed\n",
      "258547.5\tIS_FLEET_TOF_MONITORED\n",
      "255178.3903\tSender\n",
      "224628.9509\tMeasure_2\n",
      "201822.0815\tGeo_Area\n",
      "192880.5\tCharge_mode_DISTANCE\n",
      "189973.4198\tBattery_Supplier\n",
      "177645.8976\tMounted_Battery_Generation\n",
      "174784.7455\tBattery_Generation\n",
      "170597.3356\tEngine_Type\n",
      "146088.5\tEMISSION_LEVEL\n",
      "134010.5\tIS_CHECKED_IN_VDA\n",
      "95862.0948\tCluster\n",
      "94092.073\tVehicle_MRK_TYPE\n",
      "75017.60687\tMeasure_1\n",
      "62043.87516\tCountry\n",
      "52218.27978\tCURRENT_YEARLY_MILEAGE\n",
      "45909.91956\tmeasure40\n",
      "25584.30303\tMeasure_R_D\n",
      "23917.21586\tCity\n",
      "9239.26143\tFleet_ID\n",
      "395.0033947\tVehicle_ID\n",
      "395.0033947\tMeasure_ROw\n",
      "0.3274096414\tSample_ID\n"
     ]
    }
   ],
   "source": [
    "print_number_of_classes()\n",
    "print_class_counter_to_number_of_classes()\n",
    "print_class_std()"
   ]
  },
  {
   "cell_type": "code",
   "execution_count": 16,
   "metadata": {},
   "outputs": [
    {
     "ename": "AttributeError",
     "evalue": "'RobustScaler' object has no attribute 'fit_transfrom'",
     "output_type": "error",
     "traceback": [
      "\u001b[1;31m---------------------------------------------------------------------------\u001b[0m",
      "\u001b[1;31mAttributeError\u001b[0m                            Traceback (most recent call last)",
      "\u001b[1;32m<ipython-input-16-14e5d9117643>\u001b[0m in \u001b[0;36m<module>\u001b[1;34m\u001b[0m\n\u001b[0;32m      7\u001b[0m \u001b[1;32mfrom\u001b[0m \u001b[0msklearn\u001b[0m\u001b[1;33m.\u001b[0m\u001b[0mpreprocessing\u001b[0m \u001b[1;32mimport\u001b[0m \u001b[0mRobustScaler\u001b[0m\u001b[1;33m\u001b[0m\u001b[0m\n\u001b[0;32m      8\u001b[0m \u001b[0mscaler\u001b[0m \u001b[1;33m=\u001b[0m \u001b[0mRobustScaler\u001b[0m\u001b[1;33m(\u001b[0m\u001b[1;33m)\u001b[0m\u001b[1;33m\u001b[0m\u001b[0m\n\u001b[1;32m----> 9\u001b[1;33m \u001b[0mX\u001b[0m \u001b[1;33m=\u001b[0m \u001b[0mscaler\u001b[0m\u001b[1;33m.\u001b[0m\u001b[0mfit_transfrom\u001b[0m\u001b[1;33m(\u001b[0m\u001b[0mX\u001b[0m\u001b[1;33m)\u001b[0m\u001b[1;33m\u001b[0m\u001b[0m\n\u001b[0m\u001b[0;32m     10\u001b[0m \u001b[1;33m\u001b[0m\u001b[0m\n",
      "\u001b[1;31mAttributeError\u001b[0m: 'RobustScaler' object has no attribute 'fit_transfrom'"
     ]
    }
   ],
   "source": [
    "from sklearn.feature_selection import RFE\n",
    "from sklearn.svm import SVR\n",
    "df = data.iloc[:10000]\n",
    "X = df.loc[:,df.columns != 'measure41'].fillna(0)\n",
    "y = df['measure41'].fillna(0)"
   ]
  },
  {
   "cell_type": "code",
   "execution_count": 37,
   "metadata": {},
   "outputs": [
    {
     "data": {
      "text/plain": [
       "list"
      ]
     },
     "execution_count": 37,
     "metadata": {},
     "output_type": "execute_result"
    }
   ],
   "source": [
    "import seaborn as sns\n",
    "#sns.barplot(data=temp_df, orient=\"h\", medianprops={'color':'blue'})\n",
    "number_of_classes = data[int_cols+not_float_cols].apply(lambda c:len(c.unique()))\n",
    "class_std = [(np.std([*val.values()]),key) for key,val in class_counter.items()]\n"
   ]
  },
  {
   "cell_type": "code",
   "execution_count": 39,
   "metadata": {},
   "outputs": [
    {
     "data": {
      "text/plain": [
       "Sample_ID           777466\n",
       "Vehicle_ID            4030\n",
       "Sender                   4\n",
       "Battery_Version          5\n",
       "Vehicle_MRK_TYPE         9\n",
       "dtype: int64"
      ]
     },
     "execution_count": 39,
     "metadata": {},
     "output_type": "execute_result"
    }
   ],
   "source": [
    "number_of_classes.head()"
   ]
  },
  {
   "cell_type": "code",
   "execution_count": 49,
   "metadata": {},
   "outputs": [
    {
     "data": {
      "text/plain": [
       "[(777466, 0.32740964138449535, 'Sample_ID'),\n",
       " (4030, 395.00339468917326, 'Vehicle_ID'),\n",
       " (4, 255178.39026784283, 'Sender'),\n",
       " (5, 304129.35066974384, 'Battery_Version'),\n",
       " (9, 94092.07300180913, 'Vehicle_MRK_TYPE'),\n",
       " (2, 146088.5, 'EMISSION_LEVEL'),\n",
       " (33, 52218.279783661375, 'CURRENT_YEARLY_MILEAGE'),\n",
       " (4030, 395.00339468917326, 'Measure_ROw'),\n",
       " (2, 262748.5, 'Is_Bttery_Changed'),\n",
       " (2, 390377.5, 'IS_PATTERN_AVAILABLE'),\n",
       " (2, 258547.5, 'IS_FLEET_TOF_MONITORED'),\n",
       " (2, 134010.5, 'IS_CHECKED_IN_VDA'),\n",
       " (2, 428463.5, 'IS_Battery_Supplier_Type2_FAULTY'),\n",
       " (2, 394235.5, 'IS_VIP_FLEET'),\n",
       " (2, 192880.5, 'Charge_mode_DISTANCE'),\n",
       " (254, 45909.919555090884, 'measure40'),\n",
       " (7, 174784.7454823988, 'Battery_Generation'),\n",
       " (297, 9239.26143023052, 'Fleet_ID'),\n",
       " (27, 62043.8751615478, 'Country'),\n",
       " (3, 224628.95089606475, 'Measure_2'),\n",
       " (3, 385534.6329769437, 'Active_Charge'),\n",
       " (7, 177645.8976075032, 'Mounted_Battery_Generation'),\n",
       " (22, 75017.60687057968, 'Measure_1'),\n",
       " (116, 25584.303029133873, 'Measure_R_D'),\n",
       " (5, 170597.33556067047, 'Engine_Type'),\n",
       " (9, 201822.0814799235, 'Geo_Area'),\n",
       " (125, 23917.2158585735, 'City'),\n",
       " (9, 95862.0948040581, 'Cluster'),\n",
       " (5, 189973.41981761553, 'Battery_Supplier')]"
      ]
     },
     "execution_count": 49,
     "metadata": {},
     "output_type": "execute_result"
    }
   ],
   "source": [
    "#class_counter\n",
    "#type(class_counter)\n",
    "#class_counter.apply(lambda key,val: np.std([*val.values()]))\n",
    "number_and_std = [(cval,sval,label) for cval,(sval,label) in zip(number_of_classes.values,class_std)]\n",
    "number_and_std"
   ]
  },
  {
   "cell_type": "code",
   "execution_count": 103,
   "metadata": {},
   "outputs": [],
   "source": [
    "test=pd.DataFrame(number_and_std,columns=['numberOfClasses','std','label'])\n",
    "test.index=test['label']\n",
    "del test['label']\n",
    "\n"
   ]
  },
  {
   "cell_type": "code",
   "execution_count": 113,
   "metadata": {},
   "outputs": [
    {
     "data": {
      "text/plain": [
       "(0.0, 5000.0)"
      ]
     },
     "execution_count": 113,
     "metadata": {},
     "output_type": "execute_result"
    },
    {
     "data": {
      "image/png": "[encoded data removed]",
      "text/plain": [
       "<Figure size 1440x1440 with 1 Axes>"
      ]
     },
     "metadata": {
      "needs_background": "light"
     },
     "output_type": "display_data"
    }
   ],
   "source": [
    "test\n",
    "ax1 = test.plot(kind='bar',figsize=(20, 20))\n",
    "ax1.set_ylim(0,5000)\n"
   ]
  },
  {
   "cell_type": "code",
   "execution_count": 83,
   "metadata": {},
   "outputs": [
    {
     "data": {
      "text/html": [
       "<div>\n",
       "<style scoped>\n",
       "    .dataframe tbody tr th:only-of-type {\n",
       "        vertical-align: middle;\n",
       "    }\n",
       "\n",
       "    .dataframe tbody tr th {\n",
       "        vertical-align: top;\n",
       "    }\n",
       "\n",
       "    .dataframe thead th {\n",
       "        text-align: right;\n",
       "    }\n",
       "</style>\n",
       "<table border=\"1\" class=\"dataframe\">\n",
       "  <thead>\n",
       "    <tr style=\"text-align: right;\">\n",
       "      <th></th>\n",
       "      <th>Factor</th>\n",
       "      <th>Weight</th>\n",
       "      <th>Variance</th>\n",
       "    </tr>\n",
       "  </thead>\n",
       "  <tbody>\n",
       "    <tr>\n",
       "      <th>0</th>\n",
       "      <td>Growth</td>\n",
       "      <td>0.1000</td>\n",
       "      <td>0.1500</td>\n",
       "    </tr>\n",
       "    <tr>\n",
       "      <th>1</th>\n",
       "      <td>Value</td>\n",
       "      <td>0.2000</td>\n",
       "      <td>0.3500</td>\n",
       "    </tr>\n",
       "  </tbody>\n",
       "</table>\n",
       "</div>"
      ],
      "text/plain": [
       "   Factor  Weight  Variance\n",
       "0  Growth  0.1000    0.1500\n",
       "1   Value  0.2000    0.3500"
      ]
     },
     "execution_count": 83,
     "metadata": {},
     "output_type": "execute_result"
    }
   ],
   "source": [
    "pd.DataFrame({\n",
    "    'Factor': ['Growth', 'Value'],\n",
    "    'Weight': [0.10, 0.20],\n",
    "    'Variance': [0.15, 0.35]\n",
    "}).head()"
   ]
  },
  {
   "cell_type": "code",
   "execution_count": null,
   "metadata": {},
   "outputs": [],
   "source": []
  }
 ],
 "metadata": {
  "kernelspec": {
   "display_name": "Python 3",
   "language": "python",
   "name": "python3"
  },
  "language_info": {
   "codemirror_mode": {
    "name": "ipython",
    "version": 3
   },
   "file_extension": ".py",
   "mimetype": "text/x-python",
   "name": "python",
   "nbconvert_exporter": "python",
   "pygments_lexer": "ipython3",
   "version": "3.7.0"
  }
 },
 "nbformat": 4,
 "nbformat_minor": 4
}
