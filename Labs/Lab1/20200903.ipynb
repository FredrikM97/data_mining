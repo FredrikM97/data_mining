{
 "cells": [
  {
   "cell_type": "markdown",
   "metadata": {},
   "source": [
    "## Lab 1 Exploring datasets\n",
    "\n",
    "In this lab, you will be working with exploring a dataset, visualizing it with different methods."
   ]
  },
  {
   "cell_type": "code",
   "execution_count": null,
   "metadata": {},
   "outputs": [],
   "source": [
    "import numpy as np\n",
    "import pandas as pd\n",
    "import matplotlib.pyplot as plt\n",
    "%matplotlib inline\n",
    "import seaborn as sns\n",
    "pd.set_option(\"display.max_columns\",100)\n",
    "import warnings\n",
    "warnings.simplefilter('ignore')"
   ]
  },
  {
   "cell_type": "markdown",
   "metadata": {},
   "source": [
    "## Data overview\n",
    "\n",
    "This dataset contains information on default payments, demographic factors, credit data, history of payment, and bill statements of credit card clients in Taiwan from April 2005 to September 2005. \n",
    "\n",
    "- ID: ID of each client\n",
    "- LIMIT_BAL: Amount of given credit in NT dollars (includes individual and family/supplementary credit)\n",
    "- SEX: Gender (1=male, 2=female)\n",
    "- EDUCATION: (1=graduate school, 2=university, 3=high school, 4=others)\n",
    "- MARRIAGE: Marital status (1=married, 2=single, 3=others)\n",
    "- AGE: Age in years\n",
    "- PAY_0: Repayment status in September, 2005 (-1=pay duly, 1=payment delay for one month, 2=payment delay for two - months, … 8=payment delay for eight months, 9=payment delay for nine months and above)\n",
    "- PAY_2: Repayment status in August, 2005 (scale same as above)\n",
    "- PAY_3: Repayment status in July, 2005 (scale same as above)\n",
    "- PAY_4: Repayment status in June, 2005 (scale same as above)\n",
    "- PAY_5: Repayment status in May, 2005 (scale same as above)\n",
    "- PAY_6: Repayment status in April, 2005 (scale same as above)\n",
    "- BILL_AMT1: Amount of bill statement in September, 2005 (NT dollar)\n",
    "- BILL_AMT2: Amount of bill statement in August, 2005 (NT dollar)\n",
    "- BILL_AMT3: Amount of bill statement in July, 2005 (NT dollar)\n",
    "- BILL_AMT4: Amount of bill statement in June, 2005 (NT dollar)\n",
    "- BILL_AMT5: Amount of bill statement in May, 2005 (NT dollar)\n",
    "- BILL_AMT6: Amount of bill statement in April, 2005 (NT dollar)\n",
    "- PAY_AMT1: Amount of previous payment in September, 2005 (NT dollar)\n",
    "- PAY_AMT2: Amount of previous payment in August, 2005 (NT dollar)\n",
    "- PAY_AMT3: Amount of previous payment in July, 2005 (NT dollar)\n",
    "- PAY_AMT4: Amount of previous payment in June, 2005 (NT dollar)\n",
    "- PAY_AMT5: Amount of previous payment in May, 2005 (NT dollar)\n",
    "- PAY_AMT6: Amount of previous payment in April, 2005 (NT dollar)\n",
    "- default.payment.next.month: Default payment in June, 2005 (1=yes, 0=no)"
   ]
  },
  {
   "cell_type": "markdown",
   "metadata": {},
   "source": [
    "### Load data"
   ]
  },
  {
   "cell_type": "code",
   "execution_count": null,
   "metadata": {},
   "outputs": [],
   "source": [
    "filepath = './default_of_credit_card_clients.xls'\n",
    "data = pd.read_excel(filepath,header=1)\n",
    "data.columns = data.columns.str.lower()"
   ]
  },
  {
   "cell_type": "code",
   "execution_count": null,
   "metadata": {},
   "outputs": [],
   "source": [
    "data.head()"
   ]
  },
  {
   "cell_type": "code",
   "execution_count": null,
   "metadata": {},
   "outputs": [],
   "source": [
    "data.describe()"
   ]
  },
  {
   "cell_type": "code",
   "execution_count": null,
   "metadata": {},
   "outputs": [],
   "source": [
    "data.rename(columns={'default payment next month':'default'}, inplace=True)\n",
    "data.info()"
   ]
  },
  {
   "cell_type": "markdown",
   "metadata": {},
   "source": [
    "<div class='alert alert-block alert-warning' style='font-size:150%'>\n",
    "    \n",
    "### Bar plot\n",
    "\n",
    "</div>"
   ]
  },
  {
   "cell_type": "code",
   "execution_count": null,
   "metadata": {},
   "outputs": [],
   "source": [
    "g_default = data.groupby('default').size().reset_index()\n",
    "g_default.columns = ['default','count']\n",
    "print(g_default)\n",
    "\n",
    "fig , ax = plt.subplots()\n",
    "ax.bar(g_default['default'],g_default['count'],width=0.7,color=['g','b'],alpha=0.5)\n",
    "ax.set_title('Distribution of default payment')\n",
    "ax.set_xticks([0,1])\n",
    "ax.set_xlabel('Default payment')\n",
    "ax.set_ylabel('count')\n",
    "for i, v in enumerate(g_default['count']):\n",
    "    ax.text( i -.08,v/2, str(v), color='black', fontweight='bold')"
   ]
  },
  {
   "cell_type": "code",
   "execution_count": null,
   "metadata": {},
   "outputs": [],
   "source": [
    "ax = sns.countplot(x='default',data=data,alpha=0.5)\n",
    "for i, v in enumerate(g_default['count']):\n",
    "    ax.text( i -.07,v/2, str(v), color='black', fontweight='bold')"
   ]
  },
  {
   "cell_type": "code",
   "execution_count": null,
   "metadata": {},
   "outputs": [],
   "source": [
    "ax = sns.countplot(x='sex',hue='education',data=data)"
   ]
  },
  {
   "cell_type": "markdown",
   "metadata": {},
   "source": [
    "<div class='alert alert-block alert-success' style=\"font-weight:bolder\">\n",
    "\n",
    "### Task 1\n",
    "\n",
    "### 1a - Bar plot count of each education level per class. \n",
    "    \n",
    "### 1b - Bar plot count of each marriage level per class.\n",
    "\n",
    "</div>"
   ]
  },
  {
   "cell_type": "code",
   "execution_count": null,
   "metadata": {},
   "outputs": [],
   "source": [
    "# please implement task 1 here\n",
    "\n",
    "ax = sns.countplot(x='default',hue='education',data=data)\n"
   ]
  },
  {
   "cell_type": "markdown",
   "metadata": {},
   "source": [
    "<div class='alert alert-block alert-warning' style='font-size:150%'>\n",
    "    \n",
    "### Histogram\n",
    "\n",
    "</div>"
   ]
  },
  {
   "cell_type": "markdown",
   "metadata": {},
   "source": [
    "### Histogram of age with matplotlib and seaborn"
   ]
  },
  {
   "cell_type": "code",
   "execution_count": null,
   "metadata": {},
   "outputs": [],
   "source": [
    "# Histogram of age with matplotlib\n",
    "\n",
    "fig,ax = plt.subplots()\n",
    "n, bins, patches = plt.hist(data['age'],bins=30,facecolor='w',edgecolor='b',alpha=0.7,density=1)"
   ]
  },
  {
   "cell_type": "code",
   "execution_count": null,
   "metadata": {},
   "outputs": [],
   "source": [
    "# Histogram of age with seaborn\n",
    "\n",
    "sns.distplot(data['age'],bins=30,hist_kws={\"edgecolor\": 'b',\"facecolor\":'w'})"
   ]
  },
  {
   "cell_type": "code",
   "execution_count": null,
   "metadata": {},
   "outputs": [],
   "source": [
    "# Histogram of age for each class on same figure\n",
    "\n",
    "fig,ax = plt.subplots()\n",
    "sns.distplot(data[data['default']==0]['age'],bins=30,hist_kws={\"facecolor\":'y'})\n",
    "sns.distplot(data[data['default']==1]['age'],bins=30,hist_kws={\"facecolor\":'r'})"
   ]
  },
  {
   "cell_type": "code",
   "execution_count": null,
   "metadata": {},
   "outputs": [],
   "source": [
    "# Histogram of age for each class on separate axes\n",
    "\n",
    "fig, axs = plt.subplots(nrows=1,ncols=2)\n",
    "sns.distplot(data[data['default']==0]['age'],bins=30,hist_kws={\"facecolor\":'y'},ax=axs[0])\n",
    "sns.distplot(data[data['default']==1]['age'],bins=30,hist_kws={\"facecolor\":'r'},ax=axs[1])"
   ]
  },
  {
   "cell_type": "markdown",
   "metadata": {},
   "source": [
    "<div class='alert alert-block alert-success' style=\"font-weight:bolder\">\n",
    "\n",
    "### Task 2\n",
    "\n",
    "### Plot the histogram of education for each class on separate axes\n",
    "\n",
    "Hint: There are 7 categoricatl levels for education. Use a subplots of size (2,4) and inside a for loop plot the histograms.\n",
    "\n",
    "</div>"
   ]
  },
  {
   "cell_type": "code",
   "execution_count": null,
   "metadata": {},
   "outputs": [],
   "source": [
    "# please implement task 2 here\n",
    "\n",
    "fig, axs = plt.subplots(nrows=2,ncols=4)\n",
    "for r in range(7):\n",
    "    sns.distplot(data[data['education']==r]['age'],bins=30,hist_kws={\"facecolor\":'y'},ax=axs[r//4][r%4])\n",
    "\n"
   ]
  },
  {
   "cell_type": "markdown",
   "metadata": {},
   "source": [
    "<div class='alert alert-block alert-warning' style='font-size:150%'>\n",
    "\n",
    "### Scatter Plot\n",
    "\n",
    "\n",
    "\n",
    "</div>"
   ]
  },
  {
   "cell_type": "markdown",
   "metadata": {},
   "source": [
    "### Scatter plot with matplotlib and seaborn"
   ]
  },
  {
   "cell_type": "code",
   "execution_count": null,
   "metadata": {},
   "outputs": [],
   "source": [
    "# Scatter plot of \"bill_amt6\" vs \"pay_amt5 with Matplotlib\n",
    "\n",
    "fig, ax = plt.subplots()\n",
    "ax.scatter(data['bill_amt6'],data['pay_amt5'],c=data['default'],alpha=0.5)\n",
    "ax.set_xlabel('bill_amt6 (April)')\n",
    "ax.tick_params(axis='x',rotation=45)"
   ]
  },
  {
   "cell_type": "code",
   "execution_count": null,
   "metadata": {},
   "outputs": [],
   "source": [
    "# Scatter plot of \"bill_amt6\" vs \"pay_amt5 with Seaborn\n",
    "sns.scatterplot(x='bill_amt6',y='pay_amt5',hue=data.default.tolist(),data=data)"
   ]
  },
  {
   "cell_type": "markdown",
   "metadata": {},
   "source": [
    "<div class='alert alert-block alert-success' style=\"font-weight:bolder\">\n",
    "\n",
    "### Task 3\n",
    "    \n",
    "### Plot the scatter for bill_amt and pay_amt for other months, within a for loop\n",
    "\n",
    "\n",
    "</div>"
   ]
  },
  {
   "cell_type": "code",
   "execution_count": null,
   "metadata": {},
   "outputs": [],
   "source": [
    "# please implement task 3 here\n",
    "\n",
    "# What bill vs what pay? here's every permutation\n",
    "fig, axs = plt.subplots(nrows=6,ncols=6, figsize=(36,36))\n",
    "for r in range(36):\n",
    "    sns.scatterplot(x=f'bill_amt{1+r//6}',y=f'pay_amt{1+r%6}',hue=data.default.tolist(),data=data,ax=axs[r//6][r%6])"
   ]
  },
  {
   "cell_type": "markdown",
   "metadata": {},
   "source": [
    "<div class='alert alert-block alert-warning' style='font-size:150%'>\n",
    "\n",
    "### Pair Plot\n",
    "\n",
    "\n",
    "</div>"
   ]
  },
  {
   "cell_type": "markdown",
   "metadata": {},
   "source": [
    "### Using bar plot to illusterate the number of default payment in each class."
   ]
  },
  {
   "cell_type": "code",
   "execution_count": null,
   "metadata": {},
   "outputs": [],
   "source": [
    "bill_cols = [col for col in data.columns if 'bill' in col]"
   ]
  },
  {
   "cell_type": "code",
   "execution_count": null,
   "metadata": {},
   "outputs": [],
   "source": [
    "sns.pairplot(data[bill_cols+['default']],hue='default')"
   ]
  },
  {
   "cell_type": "markdown",
   "metadata": {},
   "source": [
    "<div class='alert alert-block alert-warning' style='font-size:150%'>\n",
    "\n",
    "### Box plot\n",
    "\n",
    "\n",
    "</div>"
   ]
  },
  {
   "cell_type": "code",
   "execution_count": null,
   "metadata": {},
   "outputs": [],
   "source": [
    "# Box plot of age feature\n",
    "\n",
    "fig, ax = plt.subplots()\n",
    "ax.boxplot(data['age'])\n",
    "ax.set_title('Box plot for age feature')"
   ]
  },
  {
   "cell_type": "code",
   "execution_count": null,
   "metadata": {},
   "outputs": [],
   "source": [
    "### Box plot of limit_bal feature\n",
    "\n",
    "fig, ax = plt.subplots()\n",
    "ax.boxplot(data['limit_bal'])\n",
    "ax.set_title('Box plot for limit_bal feature')"
   ]
  },
  {
   "cell_type": "markdown",
   "metadata": {},
   "source": [
    "### Grouped boxplot"
   ]
  },
  {
   "cell_type": "code",
   "execution_count": null,
   "metadata": {},
   "outputs": [],
   "source": [
    "data['bill6_pay5'] = data['bill_amt6'] - data['pay_amt5']\n",
    "\n",
    "fig,ax = plt.subplots(figsize=(10,5))\n",
    "sns.boxplot(x='education',y='bill6_pay5',data=data,showfliers=False)"
   ]
  },
  {
   "cell_type": "code",
   "execution_count": null,
   "metadata": {},
   "outputs": [],
   "source": [
    "fig,ax = plt.subplots(figsize=(10,5))\n",
    "sns.boxplot(x='education',y='bill6_pay5',data=data,showfliers=False,hue='default')"
   ]
  },
  {
   "cell_type": "markdown",
   "metadata": {},
   "source": [
    "<div class='alert alert-block alert-success' style=\"font-weight:bolder\">\n",
    "\n",
    "### Task 4\n",
    "\n",
    "### 4a - Plot boxplot for 'default' and 'bill_mnt' for all months\n",
    "\n",
    "### 4b - Plot boxplot for 'default' and difference between 'bill_mnt_n' and 'pay_mnt_(n-1)' for all months\n",
    "\n",
    "</div>"
   ]
  },
  {
   "cell_type": "code",
   "execution_count": null,
   "metadata": {},
   "outputs": [],
   "source": [
    "# please implement task 4 here\n",
    "\n",
    "# task 4a\n",
    "bill_amt = [f'bill_amt{i}' for i in range(1,7)]\n",
    "months = ['September','August','July','June','May','April']\n",
    "\n",
    "fig,ax = plt.subplots(figsize=(10,5))\n",
    "hue = [0]*6+[1]*6\n",
    "y = [data[data['default']==0][bill].tolist() for def_val,bill in zip([0,1]*6,bill_amt*2)]\n",
    "print([(def_val,bill) for def_val,bill in product([0,1],bill_amt)])\n",
    "print(type(y),type(y[0]),len(y))\n",
    "#print([y[i].dtypes for i in range(len(y))])\n",
    "\"\"\"\n",
    "y = [data[data['default']==0]['bill_amt1'],\n",
    "    data[data['default']==0]['bill_amt2'],\n",
    "    data[data['default']==0]['bill_amt3'],\n",
    "    data[data['default']==0]['bill_amt4'],\n",
    "    data[data['default']==0]['bill_amt5'],\n",
    "    data[data['default']==0]['bill_amt6'],\n",
    "    data[data['default']==0]['bill_amt1'],\n",
    "    data[data['default']==0]['bill_amt2'],\n",
    "    data[data['default']==0]['bill_amt3'],\n",
    "    data[data['default']==0]['bill_amt4'],\n",
    "    data[data['default']==0]['bill_amt5'],\n",
    "    data[data['default']==0]['bill_amt6'],\n",
    "    ]\n",
    "\"\"\"\n",
    "sns.boxplot(x=months*2,y=y,showfliers=False)\n",
    "\n",
    "# task 4b\n",
    "pay_amt = [f'pay_amt{i}' for i in range(1,7)]"
   ]
  },
  {
   "cell_type": "markdown",
   "metadata": {},
   "source": [
    "<div class='alert alert-block alert-warning' style='font-size:150%'>\n",
    "\n",
    "### Violin plot\n",
    "\n",
    "\n",
    "</div>"
   ]
  },
  {
   "cell_type": "code",
   "execution_count": null,
   "metadata": {},
   "outputs": [],
   "source": [
    "# Seaborn: Violinplot of 'age' feature\n",
    "\n",
    "sns.violinplot(x='age',data=data)"
   ]
  },
  {
   "cell_type": "code",
   "execution_count": null,
   "metadata": {},
   "outputs": [],
   "source": [
    "fig,ax = plt.subplots(figsize=(10,5))\n",
    "sns.violinplot(x='education',y='bill6_pay5',data=data,scale='width',split=True,hue='default',showextrema=False)\n",
    "ax.set_ylim(-100000,300000)"
   ]
  },
  {
   "cell_type": "markdown",
   "metadata": {},
   "source": [
    "<div class='alert alert-block alert-warning' style='font-size:150%'>\n",
    "\n",
    "### 3D scatter plot\n",
    "\n",
    "\n",
    "</div>"
   ]
  },
  {
   "cell_type": "code",
   "execution_count": null,
   "metadata": {},
   "outputs": [],
   "source": [
    "from mpl_toolkits.mplot3d import Axes3D\n",
    "\n",
    "fig = plt.figure(figsize=(15,5))\n",
    "ax = fig.add_subplot(111,projection='3d')\n",
    "ax.scatter(data['age'],data['bill_amt6'],data['pay_amt5'],c=data['default'])\n",
    "ax.view_init(30,0)\n",
    "ax.set_xlabel('age')\n",
    "ax.set_ylabel('bill_amt6')\n",
    "ax.set_zlabel('pay_amt5')"
   ]
  },
  {
   "cell_type": "markdown",
   "metadata": {},
   "source": [
    "<div class='alert alert-block alert-success' style=\"font-weight:bolder\">\n",
    "\n",
    "### Task 5\n",
    "\n",
    "### Check 3d scatter plot for interesting patterns with different combination of features\n",
    "\n",
    "</div>"
   ]
  },
  {
   "cell_type": "code",
   "execution_count": null,
   "metadata": {},
   "outputs": [],
   "source": [
    "# please implement task 5 here\n",
    "\n"
   ]
  },
  {
   "cell_type": "code",
   "execution_count": null,
   "metadata": {},
   "outputs": [],
   "source": []
  }
 ],
 "metadata": {
  "kernelspec": {
   "display_name": "Python 3",
   "language": "python",
   "name": "python3"
  },
  "language_info": {
   "codemirror_mode": {
    "name": "ipython",
    "version": 3
   },
   "file_extension": ".py",
   "mimetype": "text/x-python",
   "name": "python",
   "nbconvert_exporter": "python",
   "pygments_lexer": "ipython3",
   "version": "3.7.0"
  }
 },
 "nbformat": 4,
 "nbformat_minor": 4
}
